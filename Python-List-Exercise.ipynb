{
 "cells": [
  {
   "cell_type": "markdown",
   "id": "f9092c0a",
   "metadata": {},
   "source": [
    "## Python program to interchange first and last elements in a list"
   ]
  },
  {
   "cell_type": "code",
   "execution_count": 1,
   "id": "aa6ddc4b",
   "metadata": {},
   "outputs": [
    {
     "name": "stdout",
     "output_type": "stream",
     "text": [
      "Enter no. of elements you want to store in a list: 5\n",
      "Enter a number: 1\n",
      "Enter a number: 2\n",
      "Enter a number: 3\n",
      "Enter a number: 4\n",
      "Enter a number: 5\n",
      "[1, 2, 3, 4, 5]\n",
      "[5, 2, 3, 4, 1]\n"
     ]
    }
   ],
   "source": [
    "list1=[]\n",
    "n=int(input(\"Enter no. of elements you want to store in a list: \"))\n",
    "for i in range(n):\n",
    "    x=int(input(\"Enter a number: \"))\n",
    "    list1.append(x)\n",
    "print(list1)\n",
    "temp=list1[0]\n",
    "list1[0]=list1[n-1]\n",
    "list1[n-1]=temp\n",
    "print(list1)"
   ]
  },
  {
   "cell_type": "markdown",
   "id": "a1dc223c",
   "metadata": {},
   "source": [
    "## Python program to swap two elements in a list by giving the position"
   ]
  },
  {
   "cell_type": "code",
   "execution_count": 2,
   "id": "5818e913",
   "metadata": {},
   "outputs": [
    {
     "name": "stdout",
     "output_type": "stream",
     "text": [
      "Enter no. of elements you want to store in a list: 5\n",
      "Enter a number: 1\n",
      "Enter a number: 2\n",
      "Enter a number: 3\n",
      "Enter a number: 4\n",
      "Enter a number: 5\n",
      "Original list [1, 2, 3, 4, 5]\n",
      "Enter the first position from the list: 2\n",
      "Enter the second position from the list: 4\n",
      "[1, 2, 5, 4, 3]\n"
     ]
    }
   ],
   "source": [
    "list1=[]\n",
    "n=int(input(\"Enter no. of elements you want to store in a list: \"))\n",
    "for i in range(n):\n",
    "    x=int(input(\"Enter a number: \"))\n",
    "    list1.append(x)\n",
    "print(\"Original list\", list1)\n",
    "pos1=int(input(\"Enter the first position from the list: \"))\n",
    "pos2=int(input(\"Enter the second position from the list: \"))\n",
    "temp=list1[pos1]\n",
    "list1[pos1]=list1[pos2]\n",
    "list1[pos2]=temp\n",
    "print(list1)"
   ]
  },
  {
   "cell_type": "markdown",
   "id": "4cf5be27",
   "metadata": {},
   "source": [
    "## Check if element exists in list in Python"
   ]
  },
  {
   "cell_type": "code",
   "execution_count": 3,
   "id": "13dee5a9",
   "metadata": {},
   "outputs": [
    {
     "name": "stdout",
     "output_type": "stream",
     "text": [
      "Enter no. of elements you want to store in a list: 5\n",
      "Enter a number: 1\n",
      "Enter a number: 2\n",
      "Enter a number: 3\n",
      "Enter a number: 4\n",
      "Enter a number: 5\n",
      "Enter a number you want to search: 4\n",
      "The number exists at position 4\n"
     ]
    }
   ],
   "source": [
    "flag=False\n",
    "list1=[]\n",
    "n=int(input(\"Enter no. of elements you want to store in a list: \"))\n",
    "for i in range(n):\n",
    "    x=int(input(\"Enter a number: \"))\n",
    "    list1.append(x)\n",
    "num=int(input(\"Enter a number you want to search: \"))\n",
    "for i in range(n):\n",
    "    if num==list1[i]:\n",
    "        flag=True\n",
    "        pos=i\n",
    "        break\n",
    "if flag:\n",
    "    print(\"The number exists at position\",pos+1)\n",
    "else:\n",
    "    print(\"The number didn't exists\")"
   ]
  },
  {
   "cell_type": "markdown",
   "id": "68d54197",
   "metadata": {},
   "source": [
    "## Python program to swap two elements in a list by giving the numbers from the list"
   ]
  },
  {
   "cell_type": "code",
   "execution_count": 4,
   "id": "ae90230c",
   "metadata": {},
   "outputs": [
    {
     "name": "stdout",
     "output_type": "stream",
     "text": [
      "Enter no. of elements you want to store in a list: 5\n",
      "Enter a number: 1\n",
      "Enter a number: 2\n",
      "Enter a number: 3\n",
      "Enter a number: 4\n",
      "Enter a number: 5\n",
      "Original list [1, 2, 3, 4, 5]\n",
      "Enter the first number from the list: 3\n",
      "Enter the second number from the list: 5\n",
      "[1, 2, 5, 4, 3]\n"
     ]
    }
   ],
   "source": [
    "list1=[]\n",
    "n=int(input(\"Enter no. of elements you want to store in a list: \"))\n",
    "for i in range(n):\n",
    "    x=int(input(\"Enter a number: \"))\n",
    "    list1.append(x)\n",
    "print(\"Original list\", list1)\n",
    "num1=int(input(\"Enter the first number from the list: \"))\n",
    "num2=int(input(\"Enter the second number from the list: \"))\n",
    "for i in range(n):\n",
    "    if num1==list1[i]:\n",
    "        pos1=i\n",
    "for j in range(n):\n",
    "    if num2==list1[j]:\n",
    "        pos2=j\n",
    "temp=list1[pos1]\n",
    "list1[pos1]=list1[pos2]\n",
    "list1[pos2]=temp\n",
    "print(list1)"
   ]
  },
  {
   "cell_type": "markdown",
   "id": "e07e4733",
   "metadata": {},
   "source": [
    "## Different ways to clear a list in Python"
   ]
  },
  {
   "cell_type": "code",
   "execution_count": 5,
   "id": "544383c5",
   "metadata": {},
   "outputs": [
    {
     "name": "stdout",
     "output_type": "stream",
     "text": [
      "Enter no. of elements you want to store in a list: 5\n",
      "Enter a number: 1\n",
      "Enter a number: 2\n",
      "Enter a number: 3\n",
      "Enter a number: 4\n",
      "Enter a number: 5\n",
      "Original list [1, 2, 3, 4, 5]\n",
      "List after clearing:  []\n"
     ]
    }
   ],
   "source": [
    "list1=[]\n",
    "n=int(input(\"Enter no. of elements you want to store in a list: \"))\n",
    "for i in range(n):\n",
    "    x=int(input(\"Enter a number: \"))\n",
    "    list1.append(x)\n",
    "print(\"Original list\", list1)\n",
    "list1.clear()\n",
    "print(\"List after clearing: \", list1)"
   ]
  },
  {
   "cell_type": "markdown",
   "id": "f814745d",
   "metadata": {},
   "source": [
    "## Python | Cloning or Copying a list"
   ]
  },
  {
   "cell_type": "code",
   "execution_count": 8,
   "id": "b7bf907c",
   "metadata": {},
   "outputs": [
    {
     "name": "stdout",
     "output_type": "stream",
     "text": [
      "Enter no. of elements you want to store in a list: 5\n",
      "Enter a number: 1\n",
      "Enter a number: 2\n",
      "Enter a number: 3\n",
      "Enter a number: 4\n",
      "Enter a number: 5\n",
      "Original list : [1, 2, 3, 4, 5]\n",
      "Copy of a list 1:  [1, 2, 3, 4, 5]\n"
     ]
    }
   ],
   "source": [
    "list1=[]\n",
    "list2=[]\n",
    "n=int(input(\"Enter no. of elements you want to store in a list: \"))\n",
    "for i in range(n):\n",
    "    x=int(input(\"Enter a number: \"))\n",
    "    list1.append(x)\n",
    "for i in list1:\n",
    "    list2.append(i)\n",
    "print(\"Original list :\",list1)\n",
    "print(\"Copy of a list 1: \", list2)"
   ]
  },
  {
   "cell_type": "markdown",
   "id": "bfe3a347",
   "metadata": {},
   "source": [
    "## Python | Count occurrences of an element in a list"
   ]
  },
  {
   "cell_type": "code",
   "execution_count": 12,
   "id": "7a041f98",
   "metadata": {},
   "outputs": [
    {
     "name": "stdout",
     "output_type": "stream",
     "text": [
      "Enter no. of elements you want to store in a list: 6\n",
      "Enter a number: 1\n",
      "Enter a number: 2\n",
      "Enter a number: 2\n",
      "Enter a number: 2\n",
      "Enter a number: 3\n",
      "Enter a number: 4\n",
      "Enter any element from the list: 2\n",
      "The number of times the element has occured in a list is:  3\n"
     ]
    }
   ],
   "source": [
    "list1=[]\n",
    "count=0\n",
    "n=int(input(\"Enter no. of elements you want to store in a list: \"))\n",
    "for i in range(n):\n",
    "    x=int(input(\"Enter a number: \"))\n",
    "    list1.append(x)\n",
    "num=int(input(\"Enter any element from the list: \"))\n",
    "for i in range(n):\n",
    "    if num==list1[i]:  \n",
    "        count+=1\n",
    "print(\"The number of times the element has occured in a list is: \",count)"
   ]
  },
  {
   "cell_type": "markdown",
   "id": "42a38093",
   "metadata": {},
   "source": [
    "## Reversing a List in Python"
   ]
  },
  {
   "cell_type": "code",
   "execution_count": 13,
   "id": "12fb4a32",
   "metadata": {},
   "outputs": [
    {
     "name": "stdout",
     "output_type": "stream",
     "text": [
      "Enter no. of elements you want to store in a list: 5\n",
      "Enter a number: 1\n",
      "Enter a number: 2\n",
      "Enter a number: 3\n",
      "Enter a number: 4\n",
      "Enter a number: 5\n",
      "List 1: [1, 2, 3, 4, 5]\n",
      "Reversed of list 1:  [5, 4, 3, 2, 1]\n"
     ]
    }
   ],
   "source": [
    "list1=[]\n",
    "list2=[]\n",
    "n=int(input(\"Enter no. of elements you want to store in a list: \"))\n",
    "for i in range(n):\n",
    "    x=int(input(\"Enter a number: \"))\n",
    "    list1.append(x)\n",
    "for i in range(n,0,-1):\n",
    "    list2.append(i)\n",
    "print(\"List 1:\",list1)\n",
    "print(\"Reversed of list 1: \", list2)  "
   ]
  },
  {
   "cell_type": "markdown",
   "id": "14d0231b",
   "metadata": {},
   "source": [
    "## Find sum and average of List in Python"
   ]
  },
  {
   "cell_type": "code",
   "execution_count": 14,
   "id": "61e1db01",
   "metadata": {},
   "outputs": [
    {
     "name": "stdout",
     "output_type": "stream",
     "text": [
      "Enter no. of elements you want to store in a list: 5\n",
      "Enter a number: 1\n",
      "Enter a number: 2\n",
      "Enter a number: 3\n",
      "Enter a number: 4\n",
      "Enter a number: 5\n",
      "The sum of list is:  15\n",
      "The average of list is:  3.0\n"
     ]
    }
   ],
   "source": [
    "list1=[]\n",
    "sum=0\n",
    "n=int(input(\"Enter no. of elements you want to store in a list: \"))\n",
    "for i in range(n):\n",
    "    x=int(input(\"Enter a number: \"))\n",
    "    list1.append(x)\n",
    "for i in list1:\n",
    "    sum=sum+i\n",
    "    avg=sum/n\n",
    "print(\"The sum of list is: \", sum)\n",
    "print(\"The average of list is: \", avg)"
   ]
  },
  {
   "cell_type": "markdown",
   "id": "463e3236",
   "metadata": {},
   "source": [
    "## Python | Sum of number digits in List"
   ]
  },
  {
   "cell_type": "code",
   "execution_count": 16,
   "id": "cb294f34",
   "metadata": {},
   "outputs": [
    {
     "name": "stdout",
     "output_type": "stream",
     "text": [
      "Enter no. of elements you want to store in a list: 5\n",
      "Enter a number: 11\n",
      "Enter a number: 22\n",
      "Enter a number: 33\n",
      "Enter a number: 44\n",
      "Enter a number: 55\n",
      "Original list:  [11, 22, 33, 44, 55]\n",
      "The sum of number digits in list is:  [2, 4, 6, 8, 10]\n"
     ]
    }
   ],
   "source": [
    "list1=[]\n",
    "list2=[]\n",
    "n=int(input(\"Enter no. of elements you want to store in a list: \"))\n",
    "for i in range(n):\n",
    "    x=int(input(\"Enter a number: \"))\n",
    "    list1.append(x)\n",
    "print(\"Original list: \", list1)\n",
    "for i in list1:\n",
    "    sum=0\n",
    "    while (i>0):\n",
    "        x=i%10\n",
    "        sum=sum+x\n",
    "        i//=10\n",
    "    list2.append(sum)\n",
    "print(\"The sum of number digits in list is: \", list2)"
   ]
  },
  {
   "cell_type": "markdown",
   "id": "ba4ab6b0",
   "metadata": {},
   "source": [
    "## Python | Multiply all numbers in the list (4 different ways)"
   ]
  },
  {
   "cell_type": "code",
   "execution_count": 17,
   "id": "0f2ab3cc",
   "metadata": {},
   "outputs": [
    {
     "name": "stdout",
     "output_type": "stream",
     "text": [
      "Enter no. of elements you want to store in a list: 5\n",
      "Enter a number: 1\n",
      "Enter a number: 2\n",
      "Enter a number: 3\n",
      "Enter a number: 4\n",
      "Enter a number: 5\n",
      "Multiplication of all numbers in the list:  120\n"
     ]
    }
   ],
   "source": [
    "list1=[]\n",
    "list2=[]\n",
    "mul=1\n",
    "n=int(input(\"Enter no. of elements you want to store in a list: \"))\n",
    "for i in range(n):\n",
    "    x=int(input(\"Enter a number: \"))\n",
    "    list1.append(x)\n",
    "for i in list1:\n",
    "    mul=mul*i\n",
    "print(\"Multiplication of all numbers in the list: \", mul)"
   ]
  },
  {
   "cell_type": "markdown",
   "id": "97a5759e",
   "metadata": {},
   "source": [
    "## Python program to find smallest number in a list"
   ]
  },
  {
   "cell_type": "code",
   "execution_count": 18,
   "id": "6a7dd46d",
   "metadata": {},
   "outputs": [
    {
     "name": "stdout",
     "output_type": "stream",
     "text": [
      "Enter no. of elements you want to store in a list: 5\n",
      "Enter a number: 1\n",
      "Enter a number: 2\n",
      "Enter a number: 3\n",
      "Enter a number: 4\n",
      "Enter a number: 5\n",
      "Original list [1, 2, 3, 4, 5]\n",
      "Smallest number in a list is:  1\n"
     ]
    }
   ],
   "source": [
    "list1=[]\n",
    "n=int(input(\"Enter no. of elements you want to store in a list: \"))\n",
    "for i in range(n):\n",
    "    x=int(input(\"Enter a number: \"))\n",
    "    list1.append(x)\n",
    "print(\"Original list\", list1)\n",
    "a=min(list1)\n",
    "print(\"Smallest number in a list is: \", a)"
   ]
  },
  {
   "cell_type": "markdown",
   "id": "cb2729cc",
   "metadata": {},
   "source": [
    "## Python program to find largest number in a list"
   ]
  },
  {
   "cell_type": "code",
   "execution_count": 19,
   "id": "eff76181",
   "metadata": {},
   "outputs": [
    {
     "name": "stdout",
     "output_type": "stream",
     "text": [
      "Enter no. of elements you want to store in a list: 5\n",
      "Enter a number: 1\n",
      "Enter a number: 2\n",
      "Enter a number: 3\n",
      "Enter a number: 4\n",
      "Enter a number: 5\n",
      "Original list [1, 2, 3, 4, 5]\n",
      "Largest number in a list is:  5\n"
     ]
    }
   ],
   "source": [
    "list1=[]\n",
    "n=int(input(\"Enter no. of elements you want to store in a list: \"))\n",
    "for i in range(n):\n",
    "    x=int(input(\"Enter a number: \"))\n",
    "    list1.append(x)\n",
    "print(\"Original list\", list1)\n",
    "a=max(list1)\n",
    "print(\"Largest number in a list is: \", a)"
   ]
  },
  {
   "cell_type": "markdown",
   "id": "51ad7987",
   "metadata": {},
   "source": [
    "## Python program to find second largest number in a list"
   ]
  },
  {
   "cell_type": "code",
   "execution_count": 20,
   "id": "22bf3689",
   "metadata": {},
   "outputs": [
    {
     "name": "stdout",
     "output_type": "stream",
     "text": [
      "Enter no. of elements you want to store in a list: 5\n",
      "Enter a number: 1\n",
      "Enter a number: 2\n",
      "Enter a number: 3\n",
      "Enter a number: 4\n",
      "Enter a number: 5\n",
      "Original list:  [1, 2, 3, 4, 5]\n",
      "Sorted list:  [1, 2, 3, 4, 5]\n",
      "Second largest number in a list is:  4\n"
     ]
    }
   ],
   "source": [
    "list1=[]\n",
    "n=int(input(\"Enter no. of elements you want to store in a list: \"))\n",
    "for i in range(n):\n",
    "    x=int(input(\"Enter a number: \"))\n",
    "    list1.append(x)\n",
    "print(\"Original list: \", list1)\n",
    "list1.sort()\n",
    "print(\"Sorted list: \",list1)\n",
    "print(\"Second largest number in a list is: \",list1[-2])"
   ]
  },
  {
   "cell_type": "markdown",
   "id": "33bc92cf",
   "metadata": {},
   "source": [
    "## Python program to print even numbers in a list"
   ]
  },
  {
   "cell_type": "code",
   "execution_count": 23,
   "id": "f962d5e8",
   "metadata": {},
   "outputs": [
    {
     "name": "stdout",
     "output_type": "stream",
     "text": [
      "Enter no. of elements you want to store in a list: 5\n",
      "Enter a number: 2\n",
      "Enter a number: 3\n",
      "Enter a number: 4\n",
      "Enter a number: 5\n",
      "Enter a number: 6\n",
      "Even numbers in a list is:  [2, 4, 6]\n"
     ]
    }
   ],
   "source": [
    "list1=[]\n",
    "even=[]\n",
    "n=int(input(\"Enter no. of elements you want to store in a list: \"))\n",
    "for i in range(n):\n",
    "    x=int(input(\"Enter a number: \"))\n",
    "    list1.append(x)\n",
    "for i in list1:\n",
    "    if i%2==0:\n",
    "        even.append(i)\n",
    "print(\"Even numbers in a list is: \", even)"
   ]
  },
  {
   "cell_type": "markdown",
   "id": "09967185",
   "metadata": {},
   "source": [
    "## Python program to print odd numbers in a List"
   ]
  },
  {
   "cell_type": "code",
   "execution_count": 24,
   "id": "63cc9d41",
   "metadata": {},
   "outputs": [
    {
     "name": "stdout",
     "output_type": "stream",
     "text": [
      "Enter no. of elements you want to store in a list: 5\n",
      "Enter a number: 2\n",
      "Enter a number: 3\n",
      "Enter a number: 4\n",
      "Enter a number: 5\n",
      "Enter a number: 6\n",
      "odd numbers in a list is:  [3, 5]\n"
     ]
    }
   ],
   "source": [
    "list1=[]\n",
    "list2=[]\n",
    "n=int(input(\"Enter no. of elements you want to store in a list: \"))\n",
    "for i in range(n):\n",
    "    x=int(input(\"Enter a number: \"))\n",
    "    list1.append(x)\n",
    "for i in list1:\n",
    "    if(i%2!=0):\n",
    "        list2.append(i)\n",
    "print(\"odd numbers in a list is: \",list2)"
   ]
  },
  {
   "cell_type": "markdown",
   "id": "5acf691c",
   "metadata": {},
   "source": [
    "## Python program to print all even numbers in a range"
   ]
  },
  {
   "cell_type": "code",
   "execution_count": 25,
   "id": "30766a1a",
   "metadata": {},
   "outputs": [
    {
     "name": "stdout",
     "output_type": "stream",
     "text": [
      "Enter the start range from the list: 2\n",
      "Enter the end range from the list: 9\n",
      "[2, 4, 6, 8]\n"
     ]
    }
   ],
   "source": [
    "list1=[]\n",
    "list2=[]\n",
    "start=int(input(\"Enter the start range from the list: \"))\n",
    "end=int(input(\"Enter the end range from the list: \"))\n",
    "for i in range(start,end+1):\n",
    "    if i%2==0:\n",
    "        list2.append(i)\n",
    "print(list2)"
   ]
  },
  {
   "cell_type": "markdown",
   "id": "b2b5f9d8",
   "metadata": {},
   "source": [
    "## Python program to print all odd numbers in a range"
   ]
  },
  {
   "cell_type": "code",
   "execution_count": 27,
   "id": "e80b208b",
   "metadata": {},
   "outputs": [
    {
     "name": "stdout",
     "output_type": "stream",
     "text": [
      "Enter the start range from the list: 2\n",
      "Enter the end range from the list: 9\n",
      "[3, 5, 7, 9]\n"
     ]
    }
   ],
   "source": [
    "list1=[]\n",
    "list2=[]\n",
    "start=int(input(\"Enter the start range from the list: \"))\n",
    "end=int(input(\"Enter the end range from the list: \"))\n",
    "for i in range(start,end+1):\n",
    "    if i%2!=0:\n",
    "        list2.append(i)\n",
    "print(list2)"
   ]
  },
  {
   "cell_type": "markdown",
   "id": "ad35d6b2",
   "metadata": {},
   "source": [
    "## Python program to count Even and Odd numbers in a List"
   ]
  },
  {
   "cell_type": "code",
   "execution_count": 28,
   "id": "6e039e5e",
   "metadata": {},
   "outputs": [
    {
     "name": "stdout",
     "output_type": "stream",
     "text": [
      "Enter no. of elements you want to store in a list: 5\n",
      "Enter a number: 2\n",
      "Enter a number: 3\n",
      "Enter a number: 4\n",
      "Enter a number: 5\n",
      "Enter a number: 6\n",
      "Original list:  [2, 3, 4, 5, 6]\n",
      "The count of all even numbers in a list is:  3\n",
      "The count of all odd numbers in a list is:  2\n"
     ]
    }
   ],
   "source": [
    "list1=[]\n",
    "even=[]\n",
    "odd=[]\n",
    "n=int(input(\"Enter no. of elements you want to store in a list: \"))\n",
    "for i in range(n):\n",
    "    x=int(input(\"Enter a number: \"))\n",
    "    list1.append(x)\n",
    "print(\"Original list: \",list1)\n",
    "for i in list1:\n",
    "    if i%2==0:\n",
    "        even.append(i)\n",
    "count=len(list1)-len(even)\n",
    "print(\"The count of all even numbers in a list is: \", len(even))\n",
    "print(\"The count of all odd numbers in a list is: \", count)\n",
    "\n",
    "# We can use another \"for loop\" to find the count odd number\n",
    "\n",
    "# for i in list1:\n",
    "#    if i%2!=0:\n",
    "#        odd.append(i)\n",
    "# print(\"The count of all odd numbers in a list is: \", len(odd))"
   ]
  },
  {
   "cell_type": "markdown",
   "id": "b00432e0",
   "metadata": {},
   "source": [
    "## Python program to print positive numbers in a list"
   ]
  },
  {
   "cell_type": "code",
   "execution_count": 31,
   "id": "3282f5df",
   "metadata": {},
   "outputs": [
    {
     "name": "stdout",
     "output_type": "stream",
     "text": [
      "Enter no. of elements you want to store in a list: 5\n",
      "Enter a number: -2\n",
      "Enter a number: 4\n",
      "Enter a number: -8\n",
      "Enter a number: 5\n",
      "Enter a number: -6\n",
      "Original list is:  [-2, 4, -8, 5, -6]\n",
      "The positive numbers in a list is:  [4, 5]\n"
     ]
    }
   ],
   "source": [
    "list1=[]\n",
    "positive=[]\n",
    "n=int(input(\"Enter no. of elements you want to store in a list: \"))\n",
    "for i in range(n):\n",
    "    x=int(input(\"Enter a number: \"))\n",
    "    list1.append(x)\n",
    "print(\"Original list is: \", list1)\n",
    "for i in list1:\n",
    "    if i>0:\n",
    "        positive.append(i)\n",
    "print(\"The positive numbers in a list is: \", positive)"
   ]
  },
  {
   "cell_type": "markdown",
   "id": "d6346278",
   "metadata": {},
   "source": [
    "## Python program to print negative numbers in a list"
   ]
  },
  {
   "cell_type": "code",
   "execution_count": 32,
   "id": "9c913439",
   "metadata": {},
   "outputs": [
    {
     "name": "stdout",
     "output_type": "stream",
     "text": [
      "Enter no. of elements you want to store in a list: 5\n",
      "Enter a number: -2\n",
      "Enter a number: 3\n",
      "Enter a number: -7\n",
      "Enter a number: 4\n",
      "Enter a number: -8\n",
      "Original list is:  [-2, 3, -7, 4, -8]\n",
      "The negative numbers in a list is:  [-2, -7, -8]\n"
     ]
    }
   ],
   "source": [
    "list1=[]\n",
    "negative=[]\n",
    "n=int(input(\"Enter no. of elements you want to store in a list: \"))\n",
    "for i in range(n):\n",
    "    x=int(input(\"Enter a number: \"))\n",
    "    list1.append(x)\n",
    "print(\"Original list is: \", list1)\n",
    "for i in list1:\n",
    "    if i<0:\n",
    "        negative.append(i)\n",
    "print(\"The negative numbers in a list is: \", negative)"
   ]
  },
  {
   "cell_type": "markdown",
   "id": "8d1de9b2",
   "metadata": {},
   "source": [
    "## Python program to print all positive numbers in a range"
   ]
  },
  {
   "cell_type": "code",
   "execution_count": 35,
   "id": "77daa4e8",
   "metadata": {},
   "outputs": [
    {
     "name": "stdout",
     "output_type": "stream",
     "text": [
      "Enter the start range from the list: -5\n",
      "Enter the end range from the list: 5\n",
      "[1, 2, 3, 4, 5]\n"
     ]
    }
   ],
   "source": [
    "list1=[]\n",
    "positive=[]\n",
    "start=int(input(\"Enter the start range from the list: \"))\n",
    "end=int(input(\"Enter the end range from the list: \"))\n",
    "for i in range(start,end+1):\n",
    "    if i>0:\n",
    "        positive.append(i)\n",
    "print(positive)"
   ]
  },
  {
   "cell_type": "markdown",
   "id": "bc8f9f2c",
   "metadata": {},
   "source": [
    "## Python program to print all negative numbers in a range"
   ]
  },
  {
   "cell_type": "code",
   "execution_count": 34,
   "id": "f9b3465a",
   "metadata": {},
   "outputs": [
    {
     "name": "stdout",
     "output_type": "stream",
     "text": [
      "Enter the start range from the list: -5\n",
      "Enter the end range from the list: 5\n",
      "[-5, -4, -3, -2, -1]\n"
     ]
    }
   ],
   "source": [
    "list1=[]\n",
    "negative=[]\n",
    "start=int(input(\"Enter the start range from the list: \"))\n",
    "end=int(input(\"Enter the end range from the list: \"))\n",
    "for i in range(start,end+1):\n",
    "    if i<0:\n",
    "        negative.append(i)\n",
    "print(negative)"
   ]
  },
  {
   "cell_type": "markdown",
   "id": "21403587",
   "metadata": {},
   "source": [
    "## Python program to count positive and negative numbers in a list"
   ]
  },
  {
   "cell_type": "code",
   "execution_count": 37,
   "id": "db8e1db0",
   "metadata": {},
   "outputs": [
    {
     "name": "stdout",
     "output_type": "stream",
     "text": [
      "Enter no. of elements you want to store in a list: 5\n",
      "Enter a number: -2\n",
      "Enter a number: 3\n",
      "Enter a number: 4\n",
      "Enter a number: -5\n",
      "Enter a number: 6\n",
      "Original list is:  [-2, 3, 4, -5, 6]\n",
      "The count of positive numbers in a list is:  3\n",
      "The count of negative numbers in a list is:  2\n"
     ]
    }
   ],
   "source": [
    "list1=[]\n",
    "positive=[]\n",
    "negative=[]\n",
    "n=int(input(\"Enter no. of elements you want to store in a list: \"))\n",
    "for i in range(n):\n",
    "    x=int(input(\"Enter a number: \"))\n",
    "    list1.append(x)\n",
    "print(\"Original list is: \", list1)\n",
    "for i in list1:\n",
    "    if i>0:\n",
    "        positive.append(i)\n",
    "print(\"The count of positive numbers in a list is: \", len(positive))\n",
    "for i in list1:\n",
    "    if i<0:\n",
    "        negative.append(i)\n",
    "print(\"The count of negative numbers in a list is: \", len(negative))"
   ]
  },
  {
   "cell_type": "markdown",
   "id": "f6d48244",
   "metadata": {},
   "source": [
    "## Remove multiple elements from a list in Python"
   ]
  },
  {
   "cell_type": "code",
   "execution_count": 39,
   "id": "f948b369",
   "metadata": {},
   "outputs": [
    {
     "name": "stdout",
     "output_type": "stream",
     "text": [
      "Enter no. of elements you want to store in a list: 5\n",
      "Enter a number: 1\n",
      "Enter a number: 2\n",
      "Enter a number: 3\n",
      "Enter a number: 4\n",
      "Enter a number: 5\n",
      "Original list [1, 2, 3, 4, 5]\n",
      "How many elements you wish to remove?: 2\n",
      "Enter the element: 3\n",
      "Enter the element: 4\n",
      "List after removing multiple elements:  [1, 2, 5]\n"
     ]
    }
   ],
   "source": [
    "list1=[]\n",
    "n=int(input(\"Enter no. of elements you want to store in a list: \"))\n",
    "for i in range(n):\n",
    "    x=int(input(\"Enter a number: \"))\n",
    "    list1.append(x)\n",
    "print(\"Original list\", list1)\n",
    "re=int(input(\"How many elements you wish to remove?: \"))\n",
    "for i in range(re):\n",
    "    ele=int(input(\"Enter the element: \"))\n",
    "    for i in list1:\n",
    "        if i==ele:\n",
    "            list1.remove(i)\n",
    "print(\"List after removing multiple elements: \",list1)"
   ]
  },
  {
   "cell_type": "markdown",
   "id": "bac4663b",
   "metadata": {},
   "source": [
    "## Python | Program to print duplicates from a list of integers"
   ]
  },
  {
   "cell_type": "code",
   "execution_count": 43,
   "id": "14f0b257",
   "metadata": {},
   "outputs": [
    {
     "name": "stdout",
     "output_type": "stream",
     "text": [
      "Enter no. of elements you want to store in a list: 5\n",
      "Enter a number: 1\n",
      "Enter a number: 2\n",
      "Enter a number: 2\n",
      "Enter a number: 2\n",
      "Enter a number: 4\n",
      "Original list [1, 2, 2, 2, 4]\n",
      "The duplicates from a list of integers is:  {2}\n"
     ]
    }
   ],
   "source": [
    "list1=[]\n",
    "list2=[]\n",
    "n=int(input(\"Enter no. of elements you want to store in a list: \"))\n",
    "for i in range(n):\n",
    "    x=int(input(\"Enter a number: \"))\n",
    "    list1.append(x)\n",
    "print(\"Original list\", list1)\n",
    "for i in range(n):\n",
    "    for j in range(i+1,n):\n",
    "        if list1[i]==list1[j]:\n",
    "            ele=list1[j]\n",
    "            list2.append(ele)\n",
    "            set2=set(list2)\n",
    "print(\"The duplicates from a list of integers is: \", set2)"
   ]
  }
 ],
 "metadata": {
  "kernelspec": {
   "display_name": "Python 3",
   "language": "python",
   "name": "python3"
  },
  "language_info": {
   "codemirror_mode": {
    "name": "ipython",
    "version": 3
   },
   "file_extension": ".py",
   "mimetype": "text/x-python",
   "name": "python",
   "nbconvert_exporter": "python",
   "pygments_lexer": "ipython3",
   "version": "3.8.8"
  }
 },
 "nbformat": 4,
 "nbformat_minor": 5
}
